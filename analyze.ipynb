{
 "cells": [
  {
   "cell_type": "code",
   "execution_count": 1,
   "id": "initial_id",
   "metadata": {
    "collapsed": true,
    "ExecuteTime": {
     "end_time": "2024-03-25T03:14:46.527733200Z",
     "start_time": "2024-03-25T03:14:46.099196Z"
    }
   },
   "outputs": [],
   "source": [
    "import pandas as pd\n",
    "df = pd.read_csv('ModelResults.csv')  #用实际的文件名替换"
   ]
  },
  {
   "cell_type": "code",
   "execution_count": 2,
   "outputs": [],
   "source": [
    "# 删除列,\n",
    "df = df.drop(columns=['tag','backdoor_num'])\n",
    "df['backdoor_label'] = df['backdoor_label'].apply(lambda x: len(x.split(',')))\n"
   ],
   "metadata": {
    "collapsed": false,
    "ExecuteTime": {
     "end_time": "2024-03-25T03:14:47.382118700Z",
     "start_time": "2024-03-25T03:14:47.364054700Z"
    }
   },
   "id": "b0b538710262d9df"
  },
  {
   "cell_type": "code",
   "execution_count": 3,
   "outputs": [],
   "source": [
    "df = df.fillna(0)"
   ],
   "metadata": {
    "collapsed": false,
    "ExecuteTime": {
     "end_time": "2024-03-25T03:14:51.072348500Z",
     "start_time": "2024-03-25T03:14:51.055346200Z"
    }
   },
   "id": "c0a0107a3e137f4a"
  },
  {
   "cell_type": "code",
   "execution_count": 4,
   "outputs": [],
   "source": [
    "#越小越优指标位置\n",
    "index=['backdoor_label','trigger_std','trigger_size','PoisonSR'] \n",
    "for row in index:\n",
    "    df[row]=max(df[row])-df[row]"
   ],
   "metadata": {
    "collapsed": false,
    "ExecuteTime": {
     "end_time": "2024-03-25T03:14:51.893234500Z",
     "start_time": "2024-03-25T03:14:51.874230700Z"
    }
   },
   "id": "58e4f5d5cae33e8d"
  },
  {
   "cell_type": "code",
   "execution_count": 5,
   "outputs": [],
   "source": [
    "#归一化\n",
    "ymin = 0.002\n",
    "ymax = 1\n",
    "\n",
    "def normalize(column):\n",
    "    return (column - column.min()) / (column.max() - column.min()) * (ymax - ymin) + ymin\n",
    "\n",
    "df_norm = df.apply(normalize)"
   ],
   "metadata": {
    "collapsed": false,
    "ExecuteTime": {
     "end_time": "2024-03-25T03:14:53.048618900Z",
     "start_time": "2024-03-25T03:14:53.034626300Z"
    }
   },
   "id": "259d80862b0c0089"
  },
  {
   "cell_type": "code",
   "execution_count": 6,
   "outputs": [
    {
     "data": {
      "text/plain": "    ACC-0.005  pgd-0.005  After_Datapoison_Defense_ACC  PoisonSR  \\\n0    0.935957   0.839032                      0.703297     1.000   \n1    0.935957   0.839032                      0.691248     0.002   \n2    0.850567   0.774645                      0.996851     0.002   \n3    0.935957   0.839032                      0.997946     0.002   \n4    0.722481   0.694161                      0.031438     1.000   \n5    0.642428   0.613677                      0.500658     1.000   \n6    0.914610   0.758548                      0.419328     0.002   \n7    0.850567   0.774645                      0.683033     0.002   \n8    0.701134   0.822935                      0.720412     0.002   \n9    0.887925   0.919516                      0.686319     0.002   \n10   0.685123   0.678065                      0.362370     0.002   \n11   0.770513   0.790742                      0.002000     1.000   \n12   0.002000   0.002000                      1.000000     1.000   \n13   1.000000   1.000000                      0.457254     1.000   \n\n    NoisyACC-0.005  trigger  trigger_std  backdoor_label  nifgsm-0.005  \\\n0         0.022367    1.000     1.000000             NaN        1.0000   \n1         0.765776    0.002     0.092410             NaN        1.0000   \n2         0.709765    0.002     0.002000             NaN        1.0000   \n3         0.821786    0.002     0.002000             NaN        1.0000   \n4         0.760684    0.002     0.130447             NaN        0.6507   \n5         1.000000    0.002     0.002000             NaN        1.0000   \n6         0.872704    0.002     0.124877             NaN        0.9002   \n7         0.709765    0.002     0.008406             NaN        1.0000   \n8         0.078378    0.002     0.041716             NaN        0.2515   \n9         0.139480    0.002     0.062517             NaN        0.5509   \n10        0.012184    0.002     0.095216             NaN        0.0020   \n11        0.134388    0.002     0.003086             NaN        0.1018   \n12        0.002000    0.002     0.039965             NaN        0.1517   \n13        0.103837    0.002     0.143528             NaN        0.6507   \n\n    trigger_size  ...  BlurredACC-0.01  sinifgsm-0.005  vmifgsm-0.005  \\\n0       1.000000  ...          0.97505        1.000000       1.000000   \n1       0.002000  ...          1.00000        1.000000       1.000000   \n2       0.120447  ...          0.80040        1.000000       0.956609   \n3       0.793929  ...          1.00000        1.000000       1.000000   \n4       0.911428  ...          0.70060        0.589059       0.826435   \n5       0.858169  ...          0.22655        1.000000       0.913217   \n6       0.812024  ...          0.90020        0.882588       0.913217   \n7       0.687869  ...          0.80040        1.000000       0.956609   \n8       0.128487  ...          0.90020        0.178118       0.175565   \n9       0.787908  ...          0.55090        0.471647       0.435913   \n10      0.753246  ...          0.35130        0.002000       0.002000   \n11      0.740628  ...          0.05190        0.060706       0.045391   \n12      0.438353  ...          0.00200        0.060706       0.088783   \n13      0.625503  ...          0.70060        0.706471       0.566087   \n\n    difgsm-0.005  NoisyACC-0.01  BlurredACC-0.005  CompressedACC-0.005  \\\n0       1.000000       0.059029          0.820872             0.552621   \n1       1.000000       0.757629          0.820872             0.776310   \n2       0.956609       0.729114          0.513795             0.690276   \n3       1.000000       0.776638          0.820872             0.776310   \n4       0.826435       0.743371          0.360256             0.759103   \n5       0.913217       1.000000          0.309077             1.000000   \n6       0.913217       0.857429          0.590564             0.931172   \n7       0.956609       0.672086          0.513795             0.690276   \n8       0.175565       0.011505          1.000000             0.156862   \n9       0.435913       0.092295          1.000000             0.139655   \n10      0.002000       0.002000          0.385846             0.191276   \n11      0.045391       0.082790          0.206718             0.242897   \n12      0.088783       0.044771          0.002000             0.002000   \n13      0.522696       0.073286          0.795282             0.139655   \n\n    fgsm-0.005  CompressedACC-0.01  tifgsm-0.005  \n0     0.906438            0.607929      1.000000  \n1     0.906438            0.875250      1.000000  \n2     0.812875            0.714857      0.844063  \n3     0.906438            0.875250      1.000000  \n4     0.750500            0.697036      0.625750  \n5     0.641344            1.000000      0.469813  \n6     0.828469            0.857429      0.594562  \n7     0.812875            0.714857      0.844063  \n8     0.797281            0.002000      0.313875  \n9     0.890844            0.091107      0.438625  \n10    0.672531            0.037643      0.126750  \n11    0.781687            0.233679      0.002000  \n12    0.002000            0.073286      0.033188  \n13    1.000000            0.091107      0.282687  \n\n[14 rows x 24 columns]",
      "text/html": "<div>\n<style scoped>\n    .dataframe tbody tr th:only-of-type {\n        vertical-align: middle;\n    }\n\n    .dataframe tbody tr th {\n        vertical-align: top;\n    }\n\n    .dataframe thead th {\n        text-align: right;\n    }\n</style>\n<table border=\"1\" class=\"dataframe\">\n  <thead>\n    <tr style=\"text-align: right;\">\n      <th></th>\n      <th>ACC-0.005</th>\n      <th>pgd-0.005</th>\n      <th>After_Datapoison_Defense_ACC</th>\n      <th>PoisonSR</th>\n      <th>NoisyACC-0.005</th>\n      <th>trigger</th>\n      <th>trigger_std</th>\n      <th>backdoor_label</th>\n      <th>nifgsm-0.005</th>\n      <th>trigger_size</th>\n      <th>...</th>\n      <th>BlurredACC-0.01</th>\n      <th>sinifgsm-0.005</th>\n      <th>vmifgsm-0.005</th>\n      <th>difgsm-0.005</th>\n      <th>NoisyACC-0.01</th>\n      <th>BlurredACC-0.005</th>\n      <th>CompressedACC-0.005</th>\n      <th>fgsm-0.005</th>\n      <th>CompressedACC-0.01</th>\n      <th>tifgsm-0.005</th>\n    </tr>\n  </thead>\n  <tbody>\n    <tr>\n      <th>0</th>\n      <td>0.935957</td>\n      <td>0.839032</td>\n      <td>0.703297</td>\n      <td>1.000</td>\n      <td>0.022367</td>\n      <td>1.000</td>\n      <td>1.000000</td>\n      <td>NaN</td>\n      <td>1.0000</td>\n      <td>1.000000</td>\n      <td>...</td>\n      <td>0.97505</td>\n      <td>1.000000</td>\n      <td>1.000000</td>\n      <td>1.000000</td>\n      <td>0.059029</td>\n      <td>0.820872</td>\n      <td>0.552621</td>\n      <td>0.906438</td>\n      <td>0.607929</td>\n      <td>1.000000</td>\n    </tr>\n    <tr>\n      <th>1</th>\n      <td>0.935957</td>\n      <td>0.839032</td>\n      <td>0.691248</td>\n      <td>0.002</td>\n      <td>0.765776</td>\n      <td>0.002</td>\n      <td>0.092410</td>\n      <td>NaN</td>\n      <td>1.0000</td>\n      <td>0.002000</td>\n      <td>...</td>\n      <td>1.00000</td>\n      <td>1.000000</td>\n      <td>1.000000</td>\n      <td>1.000000</td>\n      <td>0.757629</td>\n      <td>0.820872</td>\n      <td>0.776310</td>\n      <td>0.906438</td>\n      <td>0.875250</td>\n      <td>1.000000</td>\n    </tr>\n    <tr>\n      <th>2</th>\n      <td>0.850567</td>\n      <td>0.774645</td>\n      <td>0.996851</td>\n      <td>0.002</td>\n      <td>0.709765</td>\n      <td>0.002</td>\n      <td>0.002000</td>\n      <td>NaN</td>\n      <td>1.0000</td>\n      <td>0.120447</td>\n      <td>...</td>\n      <td>0.80040</td>\n      <td>1.000000</td>\n      <td>0.956609</td>\n      <td>0.956609</td>\n      <td>0.729114</td>\n      <td>0.513795</td>\n      <td>0.690276</td>\n      <td>0.812875</td>\n      <td>0.714857</td>\n      <td>0.844063</td>\n    </tr>\n    <tr>\n      <th>3</th>\n      <td>0.935957</td>\n      <td>0.839032</td>\n      <td>0.997946</td>\n      <td>0.002</td>\n      <td>0.821786</td>\n      <td>0.002</td>\n      <td>0.002000</td>\n      <td>NaN</td>\n      <td>1.0000</td>\n      <td>0.793929</td>\n      <td>...</td>\n      <td>1.00000</td>\n      <td>1.000000</td>\n      <td>1.000000</td>\n      <td>1.000000</td>\n      <td>0.776638</td>\n      <td>0.820872</td>\n      <td>0.776310</td>\n      <td>0.906438</td>\n      <td>0.875250</td>\n      <td>1.000000</td>\n    </tr>\n    <tr>\n      <th>4</th>\n      <td>0.722481</td>\n      <td>0.694161</td>\n      <td>0.031438</td>\n      <td>1.000</td>\n      <td>0.760684</td>\n      <td>0.002</td>\n      <td>0.130447</td>\n      <td>NaN</td>\n      <td>0.6507</td>\n      <td>0.911428</td>\n      <td>...</td>\n      <td>0.70060</td>\n      <td>0.589059</td>\n      <td>0.826435</td>\n      <td>0.826435</td>\n      <td>0.743371</td>\n      <td>0.360256</td>\n      <td>0.759103</td>\n      <td>0.750500</td>\n      <td>0.697036</td>\n      <td>0.625750</td>\n    </tr>\n    <tr>\n      <th>5</th>\n      <td>0.642428</td>\n      <td>0.613677</td>\n      <td>0.500658</td>\n      <td>1.000</td>\n      <td>1.000000</td>\n      <td>0.002</td>\n      <td>0.002000</td>\n      <td>NaN</td>\n      <td>1.0000</td>\n      <td>0.858169</td>\n      <td>...</td>\n      <td>0.22655</td>\n      <td>1.000000</td>\n      <td>0.913217</td>\n      <td>0.913217</td>\n      <td>1.000000</td>\n      <td>0.309077</td>\n      <td>1.000000</td>\n      <td>0.641344</td>\n      <td>1.000000</td>\n      <td>0.469813</td>\n    </tr>\n    <tr>\n      <th>6</th>\n      <td>0.914610</td>\n      <td>0.758548</td>\n      <td>0.419328</td>\n      <td>0.002</td>\n      <td>0.872704</td>\n      <td>0.002</td>\n      <td>0.124877</td>\n      <td>NaN</td>\n      <td>0.9002</td>\n      <td>0.812024</td>\n      <td>...</td>\n      <td>0.90020</td>\n      <td>0.882588</td>\n      <td>0.913217</td>\n      <td>0.913217</td>\n      <td>0.857429</td>\n      <td>0.590564</td>\n      <td>0.931172</td>\n      <td>0.828469</td>\n      <td>0.857429</td>\n      <td>0.594562</td>\n    </tr>\n    <tr>\n      <th>7</th>\n      <td>0.850567</td>\n      <td>0.774645</td>\n      <td>0.683033</td>\n      <td>0.002</td>\n      <td>0.709765</td>\n      <td>0.002</td>\n      <td>0.008406</td>\n      <td>NaN</td>\n      <td>1.0000</td>\n      <td>0.687869</td>\n      <td>...</td>\n      <td>0.80040</td>\n      <td>1.000000</td>\n      <td>0.956609</td>\n      <td>0.956609</td>\n      <td>0.672086</td>\n      <td>0.513795</td>\n      <td>0.690276</td>\n      <td>0.812875</td>\n      <td>0.714857</td>\n      <td>0.844063</td>\n    </tr>\n    <tr>\n      <th>8</th>\n      <td>0.701134</td>\n      <td>0.822935</td>\n      <td>0.720412</td>\n      <td>0.002</td>\n      <td>0.078378</td>\n      <td>0.002</td>\n      <td>0.041716</td>\n      <td>NaN</td>\n      <td>0.2515</td>\n      <td>0.128487</td>\n      <td>...</td>\n      <td>0.90020</td>\n      <td>0.178118</td>\n      <td>0.175565</td>\n      <td>0.175565</td>\n      <td>0.011505</td>\n      <td>1.000000</td>\n      <td>0.156862</td>\n      <td>0.797281</td>\n      <td>0.002000</td>\n      <td>0.313875</td>\n    </tr>\n    <tr>\n      <th>9</th>\n      <td>0.887925</td>\n      <td>0.919516</td>\n      <td>0.686319</td>\n      <td>0.002</td>\n      <td>0.139480</td>\n      <td>0.002</td>\n      <td>0.062517</td>\n      <td>NaN</td>\n      <td>0.5509</td>\n      <td>0.787908</td>\n      <td>...</td>\n      <td>0.55090</td>\n      <td>0.471647</td>\n      <td>0.435913</td>\n      <td>0.435913</td>\n      <td>0.092295</td>\n      <td>1.000000</td>\n      <td>0.139655</td>\n      <td>0.890844</td>\n      <td>0.091107</td>\n      <td>0.438625</td>\n    </tr>\n    <tr>\n      <th>10</th>\n      <td>0.685123</td>\n      <td>0.678065</td>\n      <td>0.362370</td>\n      <td>0.002</td>\n      <td>0.012184</td>\n      <td>0.002</td>\n      <td>0.095216</td>\n      <td>NaN</td>\n      <td>0.0020</td>\n      <td>0.753246</td>\n      <td>...</td>\n      <td>0.35130</td>\n      <td>0.002000</td>\n      <td>0.002000</td>\n      <td>0.002000</td>\n      <td>0.002000</td>\n      <td>0.385846</td>\n      <td>0.191276</td>\n      <td>0.672531</td>\n      <td>0.037643</td>\n      <td>0.126750</td>\n    </tr>\n    <tr>\n      <th>11</th>\n      <td>0.770513</td>\n      <td>0.790742</td>\n      <td>0.002000</td>\n      <td>1.000</td>\n      <td>0.134388</td>\n      <td>0.002</td>\n      <td>0.003086</td>\n      <td>NaN</td>\n      <td>0.1018</td>\n      <td>0.740628</td>\n      <td>...</td>\n      <td>0.05190</td>\n      <td>0.060706</td>\n      <td>0.045391</td>\n      <td>0.045391</td>\n      <td>0.082790</td>\n      <td>0.206718</td>\n      <td>0.242897</td>\n      <td>0.781687</td>\n      <td>0.233679</td>\n      <td>0.002000</td>\n    </tr>\n    <tr>\n      <th>12</th>\n      <td>0.002000</td>\n      <td>0.002000</td>\n      <td>1.000000</td>\n      <td>1.000</td>\n      <td>0.002000</td>\n      <td>0.002</td>\n      <td>0.039965</td>\n      <td>NaN</td>\n      <td>0.1517</td>\n      <td>0.438353</td>\n      <td>...</td>\n      <td>0.00200</td>\n      <td>0.060706</td>\n      <td>0.088783</td>\n      <td>0.088783</td>\n      <td>0.044771</td>\n      <td>0.002000</td>\n      <td>0.002000</td>\n      <td>0.002000</td>\n      <td>0.073286</td>\n      <td>0.033188</td>\n    </tr>\n    <tr>\n      <th>13</th>\n      <td>1.000000</td>\n      <td>1.000000</td>\n      <td>0.457254</td>\n      <td>1.000</td>\n      <td>0.103837</td>\n      <td>0.002</td>\n      <td>0.143528</td>\n      <td>NaN</td>\n      <td>0.6507</td>\n      <td>0.625503</td>\n      <td>...</td>\n      <td>0.70060</td>\n      <td>0.706471</td>\n      <td>0.566087</td>\n      <td>0.522696</td>\n      <td>0.073286</td>\n      <td>0.795282</td>\n      <td>0.139655</td>\n      <td>1.000000</td>\n      <td>0.091107</td>\n      <td>0.282687</td>\n    </tr>\n  </tbody>\n</table>\n<p>14 rows × 24 columns</p>\n</div>"
     },
     "execution_count": 6,
     "metadata": {},
     "output_type": "execute_result"
    }
   ],
   "source": [
    "df_norm"
   ],
   "metadata": {
    "collapsed": false,
    "ExecuteTime": {
     "end_time": "2024-03-25T03:14:54.003250100Z",
     "start_time": "2024-03-25T03:14:53.963270200Z"
    }
   },
   "id": "eb070490a6d9c023"
  },
  {
   "cell_type": "code",
   "execution_count": 9,
   "outputs": [],
   "source": [
    "import numpy as np\n",
    "\n",
    "# 假设df是你的dataframe\n",
    "m = len(df) \n",
    "\n",
    "# 计算信息熵\n",
    "E = (-1/np.log(m)*(df_norm*np.log(df_norm)).sum()).values\n",
    "\n",
    "# 计算权重\n",
    "w = (1 - E) / sum(1 - E)"
   ],
   "metadata": {
    "collapsed": false,
    "ExecuteTime": {
     "end_time": "2024-03-25T03:15:12.520862900Z",
     "start_time": "2024-03-25T03:15:12.505884300Z"
    }
   },
   "id": "65a011d3295acf01"
  },
  {
   "cell_type": "code",
   "execution_count": 10,
   "outputs": [],
   "source": [
    "w = pd.Series(w, index=df.columns)\n",
    "\n",
    "# 利用 Pandas 的 apply 方法进行乘法操作\n",
    "scores = df_norm * w\n",
    "\n",
    "# 对每行数据进行求和以得到一个总分\n",
    "total_scores = scores.sum(axis=1)"
   ],
   "metadata": {
    "collapsed": false,
    "ExecuteTime": {
     "end_time": "2024-03-25T03:15:16.350634700Z",
     "start_time": "2024-03-25T03:15:16.327635500Z"
    }
   },
   "id": "8872c82d28168633"
  },
  {
   "cell_type": "code",
   "execution_count": 12,
   "outputs": [
    {
     "data": {
      "text/plain": "0     0.807327\n1     0.489974\n2     0.464310\n3     0.483024\n4     0.523872\n5     0.556726\n6     0.456661\n7     0.466323\n8     0.174120\n9     0.278050\n10    0.103358\n11    0.275298\n12    0.186863\n13    0.491348\ndtype: float64"
     },
     "execution_count": 12,
     "metadata": {},
     "output_type": "execute_result"
    }
   ],
   "source": [
    "total_scores"
   ],
   "metadata": {
    "collapsed": false,
    "ExecuteTime": {
     "end_time": "2024-03-25T03:15:40.906519800Z",
     "start_time": "2024-03-25T03:15:40.880712200Z"
    }
   },
   "id": "5d1eb766da9b003a"
  },
  {
   "cell_type": "code",
   "execution_count": 13,
   "outputs": [],
   "source": [
    "w.to_csv(\"./weight.csv\")"
   ],
   "metadata": {
    "collapsed": false,
    "ExecuteTime": {
     "end_time": "2024-03-25T03:15:42.036840Z",
     "start_time": "2024-03-25T03:15:42.029827Z"
    }
   },
   "id": "a692bfa15b82f4d8"
  },
  {
   "cell_type": "code",
   "execution_count": 199,
   "outputs": [],
   "source": [],
   "metadata": {
    "collapsed": false,
    "ExecuteTime": {
     "end_time": "2024-03-25T03:12:27.090368300Z",
     "start_time": "2024-03-25T03:12:27.035636700Z"
    }
   },
   "id": "ce8fddb191e5a0cd"
  }
 ],
 "metadata": {
  "kernelspec": {
   "display_name": "Python 3",
   "language": "python",
   "name": "python3"
  },
  "language_info": {
   "codemirror_mode": {
    "name": "ipython",
    "version": 2
   },
   "file_extension": ".py",
   "mimetype": "text/x-python",
   "name": "python",
   "nbconvert_exporter": "python",
   "pygments_lexer": "ipython2",
   "version": "2.7.6"
  }
 },
 "nbformat": 4,
 "nbformat_minor": 5
}
